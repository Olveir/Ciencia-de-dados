{
 "cells": [
  {
   "cell_type": "code",
   "execution_count": null,
   "id": "935d059a-6d4a-4e6e-b5fa-1095940a7d65",
   "metadata": {},
   "outputs": [],
   "source": [
    "import pandas as pd"
   ]
  },
  {
   "cell_type": "code",
   "execution_count": null,
   "id": "37ae7acc-79af-47be-a0a4-0f45a732177a",
   "metadata": {},
   "outputs": [],
   "source": [
    "#Comandos para abrir arquivos\n",
    "dados = pd.read_csv('fifa/fifa.csv')\n",
    "\n",
    "dados_xlsx = pd.read_excel('fifa/fifa.xlsx')\n",
    "\n",
    "dados_txt = pd.read_csv('fifa/fifa.csv', delimiter = '\\t')\n",
    "\n",
    "dados_html = pd.read_html('https://pt.wikipedia.org/wiki/Lista_de_presidentes_do_Brasil')\n",
    "#------------------------------------------------------------------------------------------\n",
    "\n",
    "#Comandos para leitura dos dados\n",
    "dados#Mostra a tabela inteira\n",
    "\n",
    "dados.head()#Mostra os cinco primeiros elementos da tabela\n",
    "\n",
    "dados.head(2)#Mostra os dois primeiros elementos da tabela\n",
    "\n",
    "dados.tail()#Mostra os cinco últimos elementos da tabela\n",
    "\n",
    "dados.tail(8)#Mostra os oito últimos elementos da tabela\n",
    "\n",
    "dados.columns#Mostra o nome de cada coluna ex:Name, ID, Age\n",
    "\n",
    "dados.index#Mostra a quantidade de indices existentes na tabela\n",
    "\n",
    "dados['Name']#Mostra os dados de uma coluna. No caso da coluna 'Name' é impresso o nome dos jogadores, e também os indices\n",
    "\n",
    "dados[['Name','Nationality','Wage']]#Mostra os dados de diversas colunas.\n",
    "\n",
    "dados.iloc[1]#Localiza uma entrada/linha e mostra as informações.\n",
    "\n",
    "dados.iloc[0:4]#Localização de uma entrada/linha até outra e mostra as informações de cada uma.\n",
    "\n",
    "dados.iloc[2,2]#Localiza a entrada/linha 2 e a coluna 2.\n",
    "\n",
    "dados.loc[dados['Nationality'] == 'Brazil']#Filtra os dados de uma coluna. Nesse caso mostra todos os jogadores com a mesma nacionalidade.\n",
    "\n",
    "dados.loc[dados['Age'] == 21]#Filtra os dados de uma coluna. Nesse caso mostra todos os jogadores com a mesma idade.\n",
    "\n",
    "dados.sort_values('Name')#Organiza a tabela pela coluna de nomes(ordem alfabetica).\n",
    "\n",
    "dados.sort_values('Age')#Organiza a tabela pela coluna de idade(menor pro maior).\n",
    "\n",
    "dados.sort_values('Age', ascending = False)#Organiza a tabela pela coluna de idade(maior pro menor), sentido inverso(também funciona com name).\n",
    "\n",
    "dados.sort_values(['Name', 'Age'])#Organiza a tabela pela coluna de nome e idade(ordem alfabetica e menor pro maior).\n",
    "#------------------------------------------------------------------------------------------\n",
    "\n",
    "#Comandos para salvar arquivos\n",
    "dados.to_csv('dados1.csv', index = False)\n",
    "\n",
    "dados.to_excel('dados2.xlsx', index = False)\n",
    "\n",
    "dados.to_csv('dados3.txt', sep = '\\t')"
   ]
  }
 ],
 "metadata": {
  "kernelspec": {
   "display_name": "Python 3 (ipykernel)",
   "language": "python",
   "name": "python3"
  },
  "language_info": {
   "codemirror_mode": {
    "name": "ipython",
    "version": 3
   },
   "file_extension": ".py",
   "mimetype": "text/x-python",
   "name": "python",
   "nbconvert_exporter": "python",
   "pygments_lexer": "ipython3",
   "version": "3.11.5"
  }
 },
 "nbformat": 4,
 "nbformat_minor": 5
}
