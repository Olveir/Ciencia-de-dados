{
 "cells": [
  {
   "cell_type": "code",
   "execution_count": 1,
   "id": "772df44e-96d4-4c6f-a888-6391bcd8f3e0",
   "metadata": {
    "tags": []
   },
   "outputs": [],
   "source": [
    "import numpy as np"
   ]
  },
  {
   "cell_type": "code",
   "execution_count": 7,
   "id": "5b1c35a0-2523-4c0e-8a48-0edd99ee46cd",
   "metadata": {
    "tags": []
   },
   "outputs": [],
   "source": [
    "a = np.array([2,3,4])#[2,3,4] Também funciona com arrays fora do formato do numpy\n",
    "b = np.array([2,3,4])"
   ]
  },
  {
   "cell_type": "code",
   "execution_count": 8,
   "id": "cd3b64f6-e9bf-49fc-93d4-e127803bb9b0",
   "metadata": {
    "tags": []
   },
   "outputs": [
    {
     "name": "stdout",
     "output_type": "stream",
     "text": [
      "[4 6 8]\n"
     ]
    }
   ],
   "source": [
    "c= np.add(a,b)\n",
    "print(c)"
   ]
  },
  {
   "cell_type": "code",
   "execution_count": 9,
   "id": "c004faec-6cde-4b75-bdaf-fe7df5a94960",
   "metadata": {
    "tags": []
   },
   "outputs": [
    {
     "name": "stdout",
     "output_type": "stream",
     "text": [
      "[[2 3 4 5]\n",
      " [6 7 8 9]]\n"
     ]
    }
   ],
   "source": [
    "a2d = np.array([[2,3,4,5], [6,7,8,9]])\n",
    "print(a2d)"
   ]
  },
  {
   "cell_type": "code",
   "execution_count": 14,
   "id": "1b860e7b-4cb1-40d1-87d7-6cd1a64276eb",
   "metadata": {
    "tags": []
   },
   "outputs": [
    {
     "data": {
      "text/plain": [
       "8"
      ]
     },
     "execution_count": 14,
     "metadata": {},
     "output_type": "execute_result"
    }
   ],
   "source": [
    "#array[row,column] ou[axis0,axis1]\n",
    "\n",
    "a2d[1,2]"
   ]
  },
  {
   "cell_type": "code",
   "execution_count": 18,
   "id": "1b552639-dcec-4e97-88a6-ba15e85b1f1b",
   "metadata": {
    "tags": []
   },
   "outputs": [
    {
     "data": {
      "text/plain": [
       "8"
      ]
     },
     "execution_count": 18,
     "metadata": {},
     "output_type": "execute_result"
    }
   ],
   "source": [
    "a2d[-1,-2]"
   ]
  },
  {
   "cell_type": "code",
   "execution_count": 19,
   "id": "86f2020b-6462-424a-95f3-2355553eeb8f",
   "metadata": {
    "tags": []
   },
   "outputs": [
    {
     "data": {
      "text/plain": [
       "array([2, 3, 4, 5])"
      ]
     },
     "execution_count": 19,
     "metadata": {},
     "output_type": "execute_result"
    }
   ],
   "source": [
    "a2d[0,:]"
   ]
  },
  {
   "cell_type": "code",
   "execution_count": 21,
   "id": "c24663fa-1398-4389-9312-87d610ed2b08",
   "metadata": {
    "tags": []
   },
   "outputs": [
    {
     "data": {
      "text/plain": [
       "array([3, 7])"
      ]
     },
     "execution_count": 21,
     "metadata": {},
     "output_type": "execute_result"
    }
   ],
   "source": [
    "a2d[:, 1]"
   ]
  },
  {
   "cell_type": "code",
   "execution_count": null,
   "id": "f9f56613-bb9a-4646-91ae-e5b8282ea6ec",
   "metadata": {},
   "outputs": [],
   "source": []
  }
 ],
 "metadata": {
  "kernelspec": {
   "display_name": "Python 3 (ipykernel)",
   "language": "python",
   "name": "python3"
  },
  "language_info": {
   "codemirror_mode": {
    "name": "ipython",
    "version": 3
   },
   "file_extension": ".py",
   "mimetype": "text/x-python",
   "name": "python",
   "nbconvert_exporter": "python",
   "pygments_lexer": "ipython3",
   "version": "3.11.5"
  }
 },
 "nbformat": 4,
 "nbformat_minor": 5
}
