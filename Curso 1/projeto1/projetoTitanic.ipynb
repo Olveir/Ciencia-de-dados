{
 "cells": [
  {
   "cell_type": "code",
   "execution_count": null,
   "id": "0a391357-b576-4c4a-8c97-59f4c3394280",
   "metadata": {
    "tags": []
   },
   "outputs": [],
   "source": [
    "import pandas as pd"
   ]
  },
  {
   "cell_type": "code",
   "execution_count": null,
   "id": "9e9282da-cc57-4d7c-b369-239aaa5a7bea",
   "metadata": {
    "tags": []
   },
   "outputs": [],
   "source": [
    "dados = pd.read_csv('titanic.csv')\n",
    "dados"
   ]
  },
  {
   "cell_type": "code",
   "execution_count": null,
   "id": "cc963a9a-8517-4ffb-a18f-c930534c0c10",
   "metadata": {
    "tags": []
   },
   "outputs": [],
   "source": [
    "dados.loc[dados['Sex'] == 'female']"
   ]
  },
  {
   "cell_type": "code",
   "execution_count": null,
   "id": "bedf5c95-1e8b-4d59-9e61-bad62be11034",
   "metadata": {
    "tags": []
   },
   "outputs": [],
   "source": [
    "dados.loc[dados['Survived'] == 1]"
   ]
  },
  {
   "cell_type": "code",
   "execution_count": null,
   "id": "f473be4e-3d47-48c1-9479-9bac200b56cf",
   "metadata": {
    "tags": []
   },
   "outputs": [],
   "source": [
    "dados.loc[dados['Pclass'] == 1]"
   ]
  },
  {
   "cell_type": "code",
   "execution_count": null,
   "id": "c533f676-d0e5-4455-a6bd-c12bce22c625",
   "metadata": {
    "tags": []
   },
   "outputs": [],
   "source": [
    "dados.sort_values('Name')"
   ]
  },
  {
   "cell_type": "code",
   "execution_count": null,
   "id": "1fe97956-a101-486d-80f2-3a2afbf582c9",
   "metadata": {
    "tags": []
   },
   "outputs": [],
   "source": [
    "resultados = dados[(dados['Pclass'] == 1) & (dados['Survived'] == 1) & (dados['Sex'] == 'female')]\n",
    "resultados"
   ]
  },
  {
   "cell_type": "code",
   "execution_count": null,
   "id": "0bb2f5b6-01ef-4c1d-a739-2926a478cef7",
   "metadata": {
    "tags": []
   },
   "outputs": [],
   "source": [
    "resultados[['Name', 'Age', 'Sex' ,'Pclass', 'Survived']]\n",
    "resultados.to_csv('titanic_results.csv')"
   ]
  },
  {
   "cell_type": "code",
   "execution_count": null,
   "id": "29a3e8aa-66d5-4a6b-9ecf-f83468973332",
   "metadata": {
    "tags": []
   },
   "outputs": [],
   "source": [
    "resultsFilter = pd.read_csv('titanic_results.csv')"
   ]
  },
  {
   "cell_type": "code",
   "execution_count": null,
   "id": "a8e9fc30-8fa4-494b-b796-b828a3dfc787",
   "metadata": {
    "tags": []
   },
   "outputs": [],
   "source": [
    "resultsFilter = resultsFilter.sort_values('Name')"
   ]
  },
  {
   "cell_type": "code",
   "execution_count": null,
   "id": "0b5943ca-7c67-4f35-bdf5-f3258fe0152f",
   "metadata": {
    "tags": []
   },
   "outputs": [],
   "source": [
    "resultsFilter"
   ]
  },
  {
   "cell_type": "code",
   "execution_count": null,
   "id": "d8a7477c-3089-46a3-a5c7-5182908d01e6",
   "metadata": {
    "tags": []
   },
   "outputs": [],
   "source": [
    "resFiltrado = resultsFilter[['Name', 'Age', 'Sex' ,'Pclass', 'Survived']]\n",
    "resFiltrado.to_csv('titanic_resultsv2.csv', index = False)"
   ]
  },
  {
   "cell_type": "code",
   "execution_count": null,
   "id": "398f3f32-0793-46b2-a2de-de361be11ac8",
   "metadata": {
    "tags": []
   },
   "outputs": [],
   "source": [
    "resFiltrado"
   ]
  }
 ],
 "metadata": {
  "kernelspec": {
   "display_name": "Python 3 (ipykernel)",
   "language": "python",
   "name": "python3"
  },
  "language_info": {
   "codemirror_mode": {
    "name": "ipython",
    "version": 3
   },
   "file_extension": ".py",
   "mimetype": "text/x-python",
   "name": "python",
   "nbconvert_exporter": "python",
   "pygments_lexer": "ipython3",
   "version": "3.11.5"
  }
 },
 "nbformat": 4,
 "nbformat_minor": 5
}
